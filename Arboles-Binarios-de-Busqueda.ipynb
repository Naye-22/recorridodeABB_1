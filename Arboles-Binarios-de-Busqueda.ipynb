{
 "cells": [
  {
   "cell_type": "markdown",
   "id": "acadfe3d-376f-4862-95af-f8da7a707ef6",
   "metadata": {},
   "source": [
    "# Arboles Binarios de Busqueda (ABB)"
   ]
  },
  {
   "cell_type": "markdown",
   "id": "42f0800e-e24e-404b-9716-f5d3b32f9350",
   "metadata": {},
   "source": [
    "### Paso 1: Crear una función"
   ]
  },
  {
   "cell_type": "code",
   "execution_count": 45,
   "id": "ae40fdde-381f-4ad9-bf90-2760fbb997d9",
   "metadata": {},
   "outputs": [],
   "source": [
    "def crear_nodo(valor):\n",
    "    return {'valor': valor, 'izquierda': None, 'derecha': None}"
   ]
  },
  {
   "cell_type": "markdown",
   "id": "f821d90c-3246-4c3d-9065-dbdb34f3181f",
   "metadata": {},
   "source": [
    "### Paso 2: Implementar la función"
   ]
  },
  {
   "cell_type": "code",
   "execution_count": 46,
   "id": "5ce288d3-1262-418b-8dbd-1ac1571a3451",
   "metadata": {},
   "outputs": [],
   "source": [
    "def insertar(raiz, valor):\n",
    "    if raiz is None:\n",
    "        return crear_nodo(valor)\n",
    "    if valor < raiz['valor']:\n",
    "        raiz['izquierda'] = insertar(raiz['izquierda'], valor)\n",
    "    else:\n",
    "        raiz['derecha'] = insertar(raiz['derecha'], valor)\n",
    "    return raiz"
   ]
  },
  {
   "cell_type": "code",
   "execution_count": 47,
   "id": "f272cadf-48d3-4f69-80cd-9c82454b742e",
   "metadata": {},
   "outputs": [],
   "source": [
    "def recorrido_inorden(nodo):\n",
    "    if nodo is not None:\n",
    "        recorrido_inorden(nodo['izquierda'])\n",
    "        print(nodo['valor'], end=' ')\n",
    "        recorrido_inorden(nodo['derecha'])"
   ]
  },
  {
   "cell_type": "code",
   "execution_count": 48,
   "id": "59ea06fc-b6d1-4e9b-bb9d-b1f79dc4fe62",
   "metadata": {},
   "outputs": [],
   "source": [
    "def recorrido_preorden(nodo):\n",
    "    if nodo is not None:\n",
    "        print(nodo['valor'], end=' ')\n",
    "        recorrido_preorden(nodo['izquierda'])\n",
    "        recorrido_preorden(nodo['derecha'])"
   ]
  },
  {
   "cell_type": "code",
   "execution_count": 49,
   "id": "7c45a039-b1df-46e1-aa71-5f40e3b1e1fc",
   "metadata": {},
   "outputs": [],
   "source": [
    "def recorrido_postorden(nodo):\n",
    "    if nodo is not None:\n",
    "        recorrido_postorden(nodo['izquierda'])\n",
    "        recorrido_postorden(nodo['derecha'])\n",
    "        print(nodo['valor'], end=' ')"
   ]
  },
  {
   "cell_type": "code",
   "execution_count": 50,
   "id": "6def2f86-ad53-4552-bfd7-e1b479e3ad3d",
   "metadata": {},
   "outputs": [],
   "source": [
    "valores = [40, 20, 60, 10, 30, 50, 70]\n",
    "raiz = None\n",
    "for v in valores:\n",
    "    raiz = insertar(raiz, v)"
   ]
  },
  {
   "cell_type": "code",
   "execution_count": 51,
   "id": "b64e3fa2-3e69-443b-b2e9-6b550f25ed41",
   "metadata": {},
   "outputs": [
    {
     "name": "stdout",
     "output_type": "stream",
     "text": [
      "Recorrido Inorden:\n",
      "10 20 30 40 50 60 70 \n",
      "Recorrido Preorden:\n",
      "40 20 10 30 60 50 70 \n",
      "Recorrido Postorden:\n",
      "10 30 20 50 70 60 40 "
     ]
    }
   ],
   "source": [
    "print(\"Recorrido Inorden:\")\n",
    "recorrido_inorden(raiz)\n",
    "\n",
    "print(\"\\nRecorrido Preorden:\")\n",
    "recorrido_preorden(raiz)\n",
    "\n",
    "print(\"\\nRecorrido Postorden:\")\n",
    "recorrido_postorden(raiz)"
   ]
  },
  {
   "cell_type": "code",
   "execution_count": 52,
   "id": "92982207-ebaa-42b1-bb1a-dc24ceccf00d",
   "metadata": {},
   "outputs": [],
   "source": [
    "nuevos_valores = [25, 65, 5]\n",
    "\n",
    "for valor in nuevos_valores:\n",
    "    raiz = insertar(raiz, valor)\n"
   ]
  },
  {
   "cell_type": "code",
   "execution_count": 53,
   "id": "54c1b39c-942b-4928-80b6-63ea84187164",
   "metadata": {},
   "outputs": [
    {
     "name": "stdout",
     "output_type": "stream",
     "text": [
      "Nuevo recorrido inorden:\n",
      "5 10 20 25 30 40 50 60 65 70 \n",
      "\n",
      "Nuevo recorrido preorden:\n",
      "40 20 10 5 30 25 60 50 70 65 \n",
      "\n",
      "Nuevo recorrido postorden:\n",
      "5 10 25 30 20 50 65 70 60 40 \n"
     ]
    }
   ],
   "source": [
    "print(\"Nuevo recorrido inorden:\")\n",
    "recorrido_inorden(raiz)\n",
    "print(\"\\n\")\n",
    "\n",
    "print(\"Nuevo recorrido preorden:\")\n",
    "recorrido_preorden(raiz)\n",
    "print(\"\\n\")\n",
    "\n",
    "print(\"Nuevo recorrido postorden:\")\n",
    "recorrido_postorden(raiz)\n",
    "print()\n"
   ]
  },
  {
   "cell_type": "code",
   "execution_count": null,
   "id": "21c5a28f-9060-47e6-b5ab-3e595d0bef25",
   "metadata": {},
   "outputs": [],
   "source": []
  }
 ],
 "metadata": {
  "kernelspec": {
   "display_name": "Python 3 (ipykernel)",
   "language": "python",
   "name": "python3"
  },
  "language_info": {
   "codemirror_mode": {
    "name": "ipython",
    "version": 3
   },
   "file_extension": ".py",
   "mimetype": "text/x-python",
   "name": "python",
   "nbconvert_exporter": "python",
   "pygments_lexer": "ipython3",
   "version": "3.13.1"
  }
 },
 "nbformat": 4,
 "nbformat_minor": 5
}
